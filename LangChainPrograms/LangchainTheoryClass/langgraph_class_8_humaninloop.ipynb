{
 "cells": [
  {
   "cell_type": "code",
   "execution_count": 1,
   "id": "7c31c5e3",
   "metadata": {},
   "outputs": [
    {
     "name": "stdout",
     "output_type": "stream",
     "text": [
      "all ok\n"
     ]
    }
   ],
   "source": [
    "print(\"all ok\")"
   ]
  },
  {
   "cell_type": "code",
   "execution_count": 2,
   "id": "37491e7c",
   "metadata": {},
   "outputs": [
    {
     "data": {
      "text/plain": [
       "True"
      ]
     },
     "execution_count": 2,
     "metadata": {},
     "output_type": "execute_result"
    }
   ],
   "source": [
    "from dotenv import load_dotenv\n",
    "load_dotenv()"
   ]
  },
  {
   "cell_type": "code",
   "execution_count": 3,
   "id": "c73765c3",
   "metadata": {},
   "outputs": [],
   "source": [
    "from langchain_groq import ChatGroq"
   ]
  },
  {
   "cell_type": "code",
   "execution_count": 4,
   "id": "30b224a3",
   "metadata": {},
   "outputs": [],
   "source": [
    "llm=ChatGroq(model_name=\"deepseek-r1-distill-llama-70b\")"
   ]
  },
  {
   "cell_type": "code",
   "execution_count": 5,
   "id": "f86ffa67",
   "metadata": {},
   "outputs": [
    {
     "data": {
      "text/plain": [
       "AIMessage(content='<think>\\n\\n</think>\\n\\nThe capital of France is Paris.', additional_kwargs={}, response_metadata={'token_usage': {'completion_tokens': 12, 'prompt_tokens': 10, 'total_tokens': 22, 'completion_time': 0.046671722, 'prompt_time': 0.000196335, 'queue_time': 0.273293544, 'total_time': 0.046868057}, 'model_name': 'deepseek-r1-distill-llama-70b', 'system_fingerprint': 'fp_e98d30d035', 'finish_reason': 'stop', 'logprobs': None}, id='run--1cbdd6b6-b262-4ebe-9839-46bdabed441c-0', usage_metadata={'input_tokens': 10, 'output_tokens': 12, 'total_tokens': 22})"
      ]
     },
     "execution_count": 5,
     "metadata": {},
     "output_type": "execute_result"
    }
   ],
   "source": [
    "llm.invoke(\"What is the capital of France?\")"
   ]
  },
  {
   "cell_type": "code",
   "execution_count": 6,
   "id": "3b75c605",
   "metadata": {},
   "outputs": [],
   "source": [
    "from langchain_core.tools import tool"
   ]
  },
  {
   "cell_type": "code",
   "execution_count": 7,
   "id": "f28be25a",
   "metadata": {},
   "outputs": [],
   "source": [
    "from langchain_community.tools.tavily_search import TavilySearchResults"
   ]
  },
  {
   "cell_type": "code",
   "execution_count": 8,
   "id": "e3ed72f6",
   "metadata": {},
   "outputs": [],
   "source": [
    "@tool\n",
    "def multiply(x: int, y: int) -> int:\n",
    "    \"\"\"Multiplies two numbers.\"\"\"\n",
    "    return x * y"
   ]
  },
  {
   "cell_type": "code",
   "execution_count": 9,
   "id": "36322489",
   "metadata": {},
   "outputs": [
    {
     "name": "stderr",
     "output_type": "stream",
     "text": [
      "C:\\Users\\sunny\\AppData\\Local\\Temp\\ipykernel_87612\\4161870413.py:1: LangChainDeprecationWarning: The method `BaseTool.__call__` was deprecated in langchain-core 0.1.47 and will be removed in 1.0. Use :meth:`~invoke` instead.\n",
      "  multiply({\"x\":2, \"y\":3})\n"
     ]
    },
    {
     "data": {
      "text/plain": [
       "6"
      ]
     },
     "execution_count": 9,
     "metadata": {},
     "output_type": "execute_result"
    }
   ],
   "source": [
    "multiply({\"x\":2, \"y\":3})"
   ]
  },
  {
   "cell_type": "code",
   "execution_count": 10,
   "id": "553fa66b",
   "metadata": {},
   "outputs": [],
   "source": [
    "@tool\n",
    "def search(query: str):\n",
    "    \"\"\"search the web for a query and return the results\"\"\"\n",
    "    tavily=TavilySearchResults()\n",
    "    result=tavily.invoke(query)\n",
    "    return f\"Result for {query} is: \\n{result}\"\n",
    "    "
   ]
  },
  {
   "cell_type": "code",
   "execution_count": 11,
   "id": "1ae15373",
   "metadata": {},
   "outputs": [
    {
     "name": "stdout",
     "output_type": "stream",
     "text": [
      "Result for What is the capital of France? is: \n",
      "[{'title': 'What is the Capital of France? - Mappr', 'url': 'https://www.mappr.co/capital-cities/france/', 'content': 'mappr logo\\nmappr logo\\n\\nHome » Capital Cities » What is the Capital of France?\\n\\n# What is the Capital of France?\\n\\nParis is the capital of France. Also known as the “City of Light,” is not only the capital but also the most populous city of France. Paris is renowned globally for its art, fashion, gastronomy, and culture.\\n\\nA map showing France in yellow with surrounding countries in white, major cities marked, and Paris highlighted with a black dot. [...] However, Paris only became the official capital of France during the reign of Clovis I, in the late 5th and early 6th century. Before Clovis, the Merovingian kings did not rule from a fixed capital, but Clovis established his court in Paris, effectively making it the capital. Since then, with some interruptions, Paris has remained the capital of France. [...] The Palace of Versailles, a royal residence in the Île-de-France, stands as a symbol of the unmitigated monarchy of the Ancien Régime. Its origins trace back to a hunting lodge established by Louis XIII, later transformed and expanded by his son Louis XIV, resulting in the relocation of France’s court and government to Versailles in 1682.', 'score': 0.9401831}, {'title': 'Paris facts: the capital of France in history', 'url': 'https://home.adelphi.edu/~ca19535/page%204.html', 'content': 'page 4\\n\\n===============\\n\\nHomeSpainSydneySan FranciscoParisLas VegasMaui\\n\\n Paris, France\\n\\nImage 1\\n\\nParis facts: Paris, the capital of France\\n---------------------------------------------\\n\\nParis is the capital of France, the largest country of Europe with 550 000 km2 (65 millions inhabitants).\\n\\nParis has 2.234 million inhabitants end 2011. She is the core of Ile de France region (12 million people). [...] Before Paris, the capital of France was Lyon (under the Romans). Paris first became the capital of France in 508 under King Clovis. After centuries with no unique capital of France, Paris retrieved its status of capital of France under King Philippe Auguste, who reigned between 1180 and 1223. You can see remains of the Philippe August Paris walls in the passageway between the Louvre parking and Louvre Museum [...] Paris remained the capital of France until today, with one four year interruption. During German occupation (WW2 , 1940-1944), the capital of France was Vichy.\\n\\ngo to top\\n\\nReference:', 'score': 0.89166987}, {'title': 'Paris - Wikipedia', 'url': 'https://en.wikipedia.org/wiki/Paris', 'content': 'As the capital of France, Paris is the seat of France\\'s national government. For the executive, the two chief officers each have their own official residences, which also serve as their offices. The President of the French Republic resides at the Élysée Palace.( The Prime Minister\\'s seat is at the Hôtel Matignon.( Government ministries are located in various parts of the city, many near the Hôtel Matignon.( [...] Appearance\\n\\nmove to sidebar hide\\n\\nCoordinates: 48°51′24″N 2°21′8″E / 48.85667°N 2.35222°E / 48.85667; 2.35222_region:FR-75C)\\n\\nImage 4: This is a good article. Click here for more information.\\n\\nImage 5: Page semi-protected\\n\\nFrom Wikipedia, the free encyclopedia\\n\\nCapital and largest city of France\\n\\nThis article is about the capital city of France. For other uses, see Paris (disambiguation) \"Paris (disambiguation)\"). [...] Paris (French pronunciation:( \"Help:IPA/French\")ⓘ) is the capital and largest city of France. With an estimated population of 2,048,472 residents in January 2025( in an area of more than 105 km 2 (41 sq mi),( Paris is the fourth-most populous city in the European Union and the 30th most densely populated city in the world in 2022.( Since the 17th century, Paris has been one of the world\\'s major centres of finance, diplomacy, commerce, culture, fashion, and gastronomy. Because of its leading', 'score': 0.8815438}, {'title': 'Paris, Capital city of France - The World Countries', 'url': 'https://theworldcountries.com/geo/capital-city/Paris', 'content': \"Paris (French pronunciation: \\\\[paʁi\\\\] ) is the capital and largest city of France. With an estimated population of 2,048,472 residents in January 2025 in an area of more than 105 km2 (41 sq mi), Paris is the fourth-most populous city in the European Union and the 30th most densely populated city in the world in 2022. Since the 17th century, Paris has been one of the world's major centres of finance, diplomacy, commerce, culture, fashion, and gastronomy. Because of its leading role in the arts [...] Where in the World is Paris found? Paris is the capital of France (French Republic), situated in the Western Europe subregion of Europe. In Paris, the currency used is Euro (€), which is the official currency used in France. The Latitude, Longitude cordinates of Paris are 48.8534, 2.3488.\\n\\n##### About Paris\\n\\n| \\nParis\\n\\n |\\n| --- |\\n| \\n\\nCapital city, commune and department\\n\\n |\\n| \\n\\nImage 4\\n\\nEiffel Tower and the Seine from Tour Saint-Jacques\\n\\nImage 5\\n\\nNotre-Dame\\n\\nImage 6\\n\\nSacré-Cœur\\n\\nImage 7 [...] Paris, Capital city of France - The World Countries\\n===============\\n\\n Image 1 Factbook\\n\\nOpen main menu\\n\\n   Home\\n   Africa\\n   Europe\\n   Asia\\n   South America\\n   North America\\n   Oceania\\n   Antarctica\\n\\n1.  Home\\n\\n3.  Europe\\n\\n5.  Western Europe\\n\\n7.  FR\\n\\n9.  Paris\\n\\n##### Paris - Introduction\\n\\nImage 2: User Country Flag\\n\\n7:37:55 PM\\n\\nFriday, April 18, 2025\\n\\namerica/los\\\\_angeles\\n\\nImage 3: Flag\\n\\n4:37:55 AM\\n\\nSaturday, April 19, 2025\\n\\nEurope/Paris\", 'score': 0.8808076}, {'title': 'What is the Capital of France? - WorldAtlas', 'url': 'https://www.worldatlas.com/articles/what-is-the-capital-of-france.html', 'content': 'Paris is the capital city of France. The city has an approximate area of 41 square miles with a population of 2,206,488 people as of 2018. Contrary to popular belief, the name of the city did not come from the Paris in Greek myths. Instead, the name Paris is derived from the city’s initial inhabitants who were part of the Celtic Parisii tribe. Sometimes, the city is called the City of Light for two reasons; it was among the first cities to adopt gas for lighting the streets and its role during [...] Published Time: 2018-06-29T15:23:00-04:00\\n\\nWhat is the Capital of France? - WorldAtlas\\n\\n===============\\n\\nWhat is the Capital of France?\\n==============================\\n\\nImage 1: Tourism has always been a major source of income for Paris. \\n\\nTourism has always been a major source of income for Paris. [...] As the capital city of France, the city plays host to the national government of France. Even the official residence of the president is in the city at the Élysée Palace while the Prime Minister is housed at the Hôtel Matignon. The Senate or the upper house meets at the Palais du Luxembourg while the Palais Bourbon is the meeting point for the Assemblée Nationale. The second highest public official after the President of France, the President of the Senate, stays at the Petit Luxembourg.', 'score': 0.87807417}]\n"
     ]
    }
   ],
   "source": [
    "print(search.invoke({\"query\":\"What is the capital of France?\"}))"
   ]
  },
  {
   "cell_type": "code",
   "execution_count": 12,
   "id": "f6eaff44",
   "metadata": {},
   "outputs": [],
   "source": [
    "tools = [multiply, search]"
   ]
  },
  {
   "cell_type": "code",
   "execution_count": 13,
   "id": "7c84aeca",
   "metadata": {},
   "outputs": [
    {
     "data": {
      "text/plain": [
       "[StructuredTool(name='multiply', description='Multiplies two numbers.', args_schema=<class 'langchain_core.utils.pydantic.multiply'>, func=<function multiply at 0x0000025AB68CB5B0>),\n",
       " StructuredTool(name='search', description='search the web for a query and return the results', args_schema=<class 'langchain_core.utils.pydantic.search'>, func=<function search at 0x0000025AB68C8AF0>)]"
      ]
     },
     "execution_count": 13,
     "metadata": {},
     "output_type": "execute_result"
    }
   ],
   "source": [
    "tools"
   ]
  },
  {
   "cell_type": "code",
   "execution_count": 14,
   "id": "5ef5d153",
   "metadata": {},
   "outputs": [],
   "source": [
    "llm_with_tools=llm.bind_tools(tools)"
   ]
  },
  {
   "cell_type": "code",
   "execution_count": 16,
   "id": "bc27a764",
   "metadata": {},
   "outputs": [],
   "source": [
    "result=llm_with_tools.invoke(\"what is current gdp of india?\")"
   ]
  },
  {
   "cell_type": "code",
   "execution_count": 17,
   "id": "140fbe72",
   "metadata": {},
   "outputs": [
    {
     "data": {
      "text/plain": [
       "''"
      ]
     },
     "execution_count": 17,
     "metadata": {},
     "output_type": "execute_result"
    }
   ],
   "source": [
    "result.content"
   ]
  },
  {
   "cell_type": "code",
   "execution_count": null,
   "id": "91473d7e",
   "metadata": {},
   "outputs": [
    {
     "data": {
      "text/plain": [
       "[{'name': 'search',\n",
       "  'args': {'query': 'current GDP of India'},\n",
       "  'id': '9h9hp280y',\n",
       "  'type': 'tool_call'}]"
      ]
     },
     "execution_count": 18,
     "metadata": {},
     "output_type": "execute_result"
    }
   ],
   "source": [
    "result.tool_calls"
   ]
  },
  {
   "cell_type": "code",
   "execution_count": 24,
   "id": "4e85f6e2",
   "metadata": {},
   "outputs": [
    {
     "data": {
      "text/plain": [
       "'search'"
      ]
     },
     "execution_count": 24,
     "metadata": {},
     "output_type": "execute_result"
    }
   ],
   "source": [
    "result.tool_calls[0][\"name\"]"
   ]
  },
  {
   "cell_type": "code",
   "execution_count": 25,
   "id": "c52a7f62",
   "metadata": {},
   "outputs": [
    {
     "data": {
      "text/plain": [
       "{'query': 'current GDP of India'}"
      ]
     },
     "execution_count": 25,
     "metadata": {},
     "output_type": "execute_result"
    }
   ],
   "source": [
    "result.tool_calls[0][\"args\"]"
   ]
  },
  {
   "cell_type": "code",
   "execution_count": 26,
   "id": "26b3313e",
   "metadata": {},
   "outputs": [
    {
     "data": {
      "text/plain": [
       "dict"
      ]
     },
     "execution_count": 26,
     "metadata": {},
     "output_type": "execute_result"
    }
   ],
   "source": [
    "type(result.tool_calls[0][\"args\"])"
   ]
  },
  {
   "cell_type": "code",
   "execution_count": 19,
   "id": "1c2ae09b",
   "metadata": {},
   "outputs": [],
   "source": [
    "tool_mapping={tool.name:tool for tool in tools}"
   ]
  },
  {
   "cell_type": "code",
   "execution_count": 20,
   "id": "595d4435",
   "metadata": {},
   "outputs": [
    {
     "data": {
      "text/plain": [
       "{'multiply': StructuredTool(name='multiply', description='Multiplies two numbers.', args_schema=<class 'langchain_core.utils.pydantic.multiply'>, func=<function multiply at 0x0000025AB68CB5B0>),\n",
       " 'search': StructuredTool(name='search', description='search the web for a query and return the results', args_schema=<class 'langchain_core.utils.pydantic.search'>, func=<function search at 0x0000025AB68C8AF0>)}"
      ]
     },
     "execution_count": 20,
     "metadata": {},
     "output_type": "execute_result"
    }
   ],
   "source": [
    "tool_mapping"
   ]
  },
  {
   "cell_type": "code",
   "execution_count": 21,
   "id": "4b04dcd2",
   "metadata": {},
   "outputs": [
    {
     "data": {
      "text/plain": [
       "StructuredTool(name='search', description='search the web for a query and return the results', args_schema=<class 'langchain_core.utils.pydantic.search'>, func=<function search at 0x0000025AB68C8AF0>)"
      ]
     },
     "execution_count": 21,
     "metadata": {},
     "output_type": "execute_result"
    }
   ],
   "source": [
    "tool_mapping[\"search\"]"
   ]
  },
  {
   "cell_type": "code",
   "execution_count": null,
   "id": "d5919b67",
   "metadata": {},
   "outputs": [
    {
     "data": {
      "text/plain": [
       "'Result for What is the capital of india? is: \\n[{\\'title\\': \\'What is the capital of India? States and union territories explained.\\', \\'url\\': \\'https://www.usatoday.com/story/news/world/2023/05/24/what-is-the-capital-of-india/70195720007/\\', \\'content\\': \\'Want to learn more about the soon-to-be most populous country? Here’s some interesting information about how India is organized.\\\\n\\\\n## What is the capital of India?\\\\n\\\\nThe capital of India is New Delhi, located in the north-central part of the country to the west of the Yamuna River.\\\\n\\\\nCalcutta (now Kolkata, the capital of West Bengal) was the country’s capital until 1911 when King George V declared Delhi the new capital and construction of New Delhi began. [...] When the national government achieved independence in 1947, New Delhi became the capital.\\\\n\\\\nMumbai, the state capital of Maharashtra, is often considered the financial capital of India because of its role in the national and international economy.\\\\n\\\\n## How many states are in India?\\\\n\\\\nIndia is home to 28 states, each with its own capital and run by a Governor who represents the President:\\\\n\\\\nIndia also has eight union territories, governed by an Administrator appointed by the President:\\', \\'score\\': 0.93265617}, {\\'title\\': \\'What is the capital of India? - Doubtnut\\', \\'url\\': \\'https://www.doubtnut.com/qna/649225313\\', \\'content\\': \\'Class 8\\\\n\\\\n   Class 7\\\\n\\\\n   Class 6\\\\n\\\\n   Online Class\\\\n\\\\n   Search Doubtnut\\\\n\\\\n   Blog\\\\n\\\\n   Get App\\\\n\\\\n  \\\\n\\\\nSelect Theme\\\\n\\\\n  \\\\n\\\\n1.  [](\\\\n\\\\n3.  Class 3\\\\n\\\\n5.  GENERAL KNOWLEDGE\\\\n\\\\n7.  What is the capital of India?...\\\\n\\\\nWhat is the capital of India?\\\\n=============================\\\\n\\\\nADelhi\\\\n\\\\nBMumbai\\\\n\\\\nCCalcutta\\\\n\\\\nDAgra\\\\n\\\\nलिखित उत्तर\\\\n\\\\nVerified by Experts\\\\n\\\\nThe correct Answer is:A\\\\n-----------------------\\\\n\\\\n  \\\\n\\\\nDelhi is the capital of India.\\\\n------------------------------\\\\n\\\\nShow More\\\\n\\\\nImage 1: Doubtnut Promotions Banner [...] 8.  Translate into English : भारत की राजधानी दिल्ली है। Text Solution\\\\n9.  Mumbai is the financial capital of India. Text Solution [...] WHICH IS THE NATIONAL CAPITAL OF INDIA    View Solution\\\\n   The financial capital of India is called-    View Solution\\\\n   भारत की राजधानी कहाँ है?    View Solution\\\\n   What was the capital of the French colony in India?    View Solution\\\\n   When was Delhi declared as the capital of India?    View Solution\\\\n   भारत में फ्रांसीसी उपनिवेश की राजधानी क्या थी?    View Solution\\\\n   भारत में फ्रांसीसी उपनिवेश की राजधानी क्या थी?    View Solution\\', \\'score\\': 0.9147261}, {\\'title\\': \\'Which City became the capital of India for a day, Check here\\', \\'url\\': \\'https://www.jagranjosh.com/general-knowledge/which-city-became-the-capital-of-india-for-a-day-1731421925-1\\', \\'content\\': \\'If you are asked what the capital of India is, your answer will be New Delhi, which was settled by the British. Do you know that once in Indian history, a district was made the capital of the country? However, this incident lasted only for a day, after which it was recorded in the pages of history forever. This article will introduce you to one such district in India. [...] Image 1Image 2: Kishan Kumar\\\\n\\\\nByKishan Kumar\\\\n\\\\nNov 12, 2024, 20:03 IST\\\\n\\\\n   \\\\n   \\\\n   \\\\n   \\\\n   \\\\n\\\\nImage 4: one day capital of India.webp)\\\\n\\\\none day capital of India\\\\n\\\\nIf someone asks you what is the capital of India, you will answer that it is New Delhi, which the British established. In Indian history, the capital of the country changed many times and different cities got the honour of becoming the capital of the country. [...] After making Kolkata its capital, on 12 December 1912, New Delhi was declared as the capital of the country in the presence of George V. Since then, the name of New Delhi has been associated with the capital of the country.\\\\n\\\\nAbout the Author\\\\n\\\\nImage 8: Kishan Kumar\\\\n\\\\nKishan KumarSenior content writer\\', \\'score\\': 0.90432173}, {\\'title\\': \\'New Delhi | History, Population, Map, & Facts - Britannica\\', \\'url\\': \\'https://www.britannica.com/place/New-Delhi\\', \\'content\\': \\'Image 19: New Delhi, India\\\\n\\\\nNew Delhi, India(more)\\\\n\\\\nNew Delhi, national capital of India. It is situated in the north-central part of the country on the west bank of the Yamuna River, adjacent to and just south of Delhi city (Old Delhi) and within the Delhi national capital territory. [...] Delhi, city and national capital, and union territory, north-central India. The city of Delhi actually consists of two components: Old Delhi, in the north, the historic city; and New Delhi, in the south, since 1947 the capital of India, built in the first part of the 20th century as the capital of British India.\\\\n\\\\nImage 45: Rashtrapati Bhavan and the Jaipur Column [...] What is New Delhi?\\\\n\\\\nNew Delhi is the national capital of India.\\\\n\\\\n### \\\\n\\\\nWhere is New Delhi?\\\\n\\\\nNew Delhi is situated in the north-central part of India on the west bank of the Yamuna River, adjacent to and just south of Old Delhi, the historic centre of Delhi, and within the Delhi national capital territory.\\\\n\\\\n### \\\\n\\\\nWhen was New Delhi founded?\\', \\'score\\': 0.84215075}, {\\'title\\': \\'Capital City of India - CountryReports.org\\', \\'url\\': \\'https://www.countryreports.org/country/India/capital-city.htm\\', \\'content\\': \\'|  |  |\\\\n| --- | --- |\\\\n| Capital City | New Delhi |\\\\n| Capital location | 28 36 N, 77 12 E | [...] of the latter designated as New Delhi; the new capital was not formally inaugurated until 1931. | [...] | Capital - history | the city\\\\\\'s name is associated with various myths and legends; the original name for the city may have been Dhilli or Dhillika; alternatively, the name could be a corruption of the Hindustani words \"dehleez\" or \"dehali\" - both terms meaning \"threshold\" or \"gateway\" - and indicative of the city as a gateway to the Gangetic Plain; after the British decided to move the capital of their Indian Empire from Calcutta to Delhi in 1911, they created a new governmental district south\\', \\'score\\': 0.8335554}]'"
      ]
     },
     "execution_count": 22,
     "metadata": {},
     "output_type": "execute_result"
    }
   ],
   "source": [
    "#manually i am passing here\n",
    "# tool_mapping[\"search\"].invoke({\"query\":\"What is the capital of india?\"})"
   ]
  },
  {
   "cell_type": "code",
   "execution_count": null,
   "id": "acdb6865",
   "metadata": {},
   "outputs": [
    {
     "data": {
      "text/plain": [
       "'Result for current GDP of India is: \\n[{\\'title\\': \\'India - GDP, PPP (current International $) - 2025 Data 2026 Forecast ...\\', \\'url\\': \\'https://tradingeconomics.com/india/gdp-ppp-us-dollar-wb-data.html\\', \\'content\\': \\'GDP, PPP (current international $) in India was reported at 14619765554295 USD in 2023, according to the World Bank collection of development indicators, compiled from officially recognized sources. India - GDP, PPP (current international $) - actual values, historical data, forecasts and projections were sourced from the World Bank on June of 2025.\\', \\'score\\': 0.8800674}, {\\'title\\': \"India To Overtake Japan As World\\'s 4th Largest Economy In 2025: IMF ...\", \\'url\\': \\'https://pwonlyias.com/current-affairs/indias-economic-growth/\\', \\'content\\': \"India is projected to become the world\\'s fourth-largest economy in 2025 by nominal GDP, surpassing Japan, according to IMF estimates. Current Status of Indian Economy According to the International Monetary Fund (IMF), India\\'s nominal Gross Domestic Product (GDP) in 2025 is estimated at $4,187.03 billion, marginally higher than Japan\\'s GDP. By market exchange rate (MER) GDP, India is now\", \\'score\\': 0.8785752}, {\\'title\\': \"GDP Of India: Current And Historical Growth Rate, India\\'s Rank In The ...\", \\'url\\': \\'https://www.forbesindia.com/article/explainers/gdp-india/85337/1\\', \\'content\\': \"India\\'s Current GDP (FY24): $3.9 trillion\\\\n India\\'s GDP Growth Rate (FY24): 8.2%\\\\n\\\\nAlso Read: Unemployment rate in India (2008 to 2023): Current rate, historical trends and more\\\\n\\\\n## What is GDP growth rate [...] India\\'s Current GDP (FY24): $3.9 trillion\\\\n India\\'s GDP Growth Rate (FY24): 8.2%\\\\n\\\\nAlso Read: Unemployment rate in India (2008 to 2023): Current rate, historical trends and more\\\\n\\\\n## What is GDP growth rate [...] India\\'s Current GDP (FY24): $3.9 trillion\\\\n India\\'s GDP Growth Rate (FY24): 8.2%\\\\n\\\\nAlso Read: Unemployment rate in India (2008 to 2023): Current rate, historical trends and more\\\\n\\\\n## What is GDP growth rate\", \\'score\\': 0.86024034}, {\\'title\\': \\'World GDP Ranking 2025 List - ClearTax\\', \\'url\\': \\'https://cleartax.in/s/world-gdp-ranking-list\\', \\'content\\': \"India is currently ranked as the 4th largest economy globally in 2025, surpassing Japan to secure the 4th position among the world\\'s top 10 largest economies, with a nominal GDP of $4.19 trillion in 2025. Moreover, the IMF forecasts that by 2027, India will overtake Germany to become the 3rd largest economy worldwide\", \\'score\\': 0.850382}]'"
      ]
     },
     "execution_count": 27,
     "metadata": {},
     "output_type": "execute_result"
    }
   ],
   "source": [
    "\n",
    "tool_mapping[result.tool_calls[0][\"name\"]].invoke(result.tool_calls[0][\"args\"])"
   ]
  },
  {
   "cell_type": "code",
   "execution_count": 28,
   "id": "69e663b9",
   "metadata": {},
   "outputs": [],
   "source": [
    "from typing import TypedDict, Sequence, Annotated"
   ]
  },
  {
   "cell_type": "code",
   "execution_count": 29,
   "id": "faabbe80",
   "metadata": {},
   "outputs": [],
   "source": [
    "import operator"
   ]
  },
  {
   "cell_type": "code",
   "execution_count": 30,
   "id": "2c5eccb4",
   "metadata": {},
   "outputs": [],
   "source": [
    "from langchain_core.messages import BaseMessage"
   ]
  },
  {
   "cell_type": "code",
   "execution_count": 31,
   "id": "39ba6372",
   "metadata": {},
   "outputs": [],
   "source": [
    "class AgentState(TypedDict):\n",
    "    \"\"\"State for the agent.\"\"\"\n",
    "    messages: Annotated[Sequence[BaseMessage],operator.add]"
   ]
  },
  {
   "cell_type": "code",
   "execution_count": null,
   "id": "09ac40f8",
   "metadata": {},
   "outputs": [],
   "source": [
    "# state={\"messages\":[\"hi\",\"hello\",\"how are you?\"]}"
   ]
  },
  {
   "cell_type": "code",
   "execution_count": 46,
   "id": "b43395f7",
   "metadata": {},
   "outputs": [],
   "source": [
    "def invoke_model(state:AgentState):\n",
    "    messages=state[\"messages\"]\n",
    "    question=messages[-1]\n",
    "    response=llm_with_tools.invoke(question)\n",
    "    return {\"messages\":[response]}\n",
    "    "
   ]
  },
  {
   "cell_type": "code",
   "execution_count": 47,
   "id": "0adf4cb2",
   "metadata": {},
   "outputs": [],
   "source": [
    "def router(state:AgentState):\n",
    "    tool_calls=state[\"messages\"][-1].tool_calls\n",
    "    if len(tool_calls)>0:\n",
    "        return \"tool\"\n",
    "    else:\n",
    "        return \"end\""
   ]
  },
  {
   "cell_type": "code",
   "execution_count": 59,
   "id": "efaed5ea",
   "metadata": {},
   "outputs": [],
   "source": [
    "def invoke_tool(state:AgentState):\n",
    "    tool_details=state[\"messages\"][-1].tool_calls\n",
    "    \n",
    "    if tool_details is None:\n",
    "        return Exception(\"No tool calls found in the last message.\")\n",
    "    \n",
    "    print(f\"Seleted tool: {tool_details[0]['name']}\")\n",
    "    \n",
    "    if tool_details[0][\"name\"]==\"search\":\n",
    "        response=input(prompt=f\"[yes/no] do you want to continue with this expensive web search\")\n",
    "        if response.lower()==\"no\":\n",
    "            print(\"web search discarded by the user. exiting gracefully\")\n",
    "            raise Exception(\"Web search discarded by the user.\")\n",
    "            \n",
    "    \n",
    "    response=tool_mapping[tool_details[0][\"name\"]].invoke(tool_details[0][\"args\"])\n",
    "    return {\"messages\":[response]}\n",
    "            \n",
    "    \n",
    "    "
   ]
  },
  {
   "cell_type": "code",
   "execution_count": 60,
   "id": "944ae9bf",
   "metadata": {},
   "outputs": [
    {
     "data": {
      "text/plain": [
       "[StructuredTool(name='multiply', description='Multiplies two numbers.', args_schema=<class 'langchain_core.utils.pydantic.multiply'>, func=<function multiply at 0x0000025AB68CB5B0>),\n",
       " StructuredTool(name='search', description='search the web for a query and return the results', args_schema=<class 'langchain_core.utils.pydantic.search'>, func=<function search at 0x0000025AB68C8AF0>)]"
      ]
     },
     "execution_count": 60,
     "metadata": {},
     "output_type": "execute_result"
    }
   ],
   "source": [
    "tools"
   ]
  },
  {
   "cell_type": "markdown",
   "id": "d0c75d45",
   "metadata": {},
   "source": [
    "for which tool money might be requied: search tool\n",
    "\n",
    "should we take pemission from human(user) before proceding with the taviley tool call?"
   ]
  },
  {
   "cell_type": "code",
   "execution_count": 61,
   "id": "a23d06eb",
   "metadata": {},
   "outputs": [],
   "source": [
    "from langgraph.graph import StateGraph, START,END"
   ]
  },
  {
   "cell_type": "code",
   "execution_count": 62,
   "id": "df2891ba",
   "metadata": {},
   "outputs": [],
   "source": [
    "graph=StateGraph(AgentState)"
   ]
  },
  {
   "cell_type": "code",
   "execution_count": 63,
   "id": "357191c8",
   "metadata": {},
   "outputs": [
    {
     "data": {
      "text/plain": [
       "<langgraph.graph.state.StateGraph at 0x25ac07e3b50>"
      ]
     },
     "execution_count": 63,
     "metadata": {},
     "output_type": "execute_result"
    }
   ],
   "source": [
    "graph.add_node(\"ai_assistant\", invoke_model)"
   ]
  },
  {
   "cell_type": "markdown",
   "id": "2e60159f",
   "metadata": {},
   "source": [
    "##### eariler we were using the tool node from list of tool\n",
    "##### but now we have crate tool invoke(custom funtion)\n",
    "##### why we are doing it: as a user if we want to take a authority to which i need to give permission for execution "
   ]
  },
  {
   "cell_type": "code",
   "execution_count": 64,
   "id": "cf060357",
   "metadata": {},
   "outputs": [
    {
     "data": {
      "text/plain": [
       "<langgraph.graph.state.StateGraph at 0x25ac07e3b50>"
      ]
     },
     "execution_count": 64,
     "metadata": {},
     "output_type": "execute_result"
    }
   ],
   "source": [
    "graph.add_node(\"tool\", invoke_tool)"
   ]
  },
  {
   "cell_type": "code",
   "execution_count": 65,
   "id": "5e90f1d0",
   "metadata": {},
   "outputs": [
    {
     "data": {
      "text/plain": [
       "<langgraph.graph.state.StateGraph at 0x25ac07e3b50>"
      ]
     },
     "execution_count": 65,
     "metadata": {},
     "output_type": "execute_result"
    }
   ],
   "source": [
    "graph.add_conditional_edges(\"ai_assistant\",\n",
    "                            router,\n",
    "                            {\n",
    "                                \"tool\":\"tool\",\n",
    "                                \"end\":END\n",
    "                            }\n",
    "                            )"
   ]
  },
  {
   "cell_type": "code",
   "execution_count": 66,
   "id": "3896cd46",
   "metadata": {},
   "outputs": [
    {
     "data": {
      "text/plain": [
       "<langgraph.graph.state.StateGraph at 0x25ac07e3b50>"
      ]
     },
     "execution_count": 66,
     "metadata": {},
     "output_type": "execute_result"
    }
   ],
   "source": [
    "graph.add_edge(\"tool\", END)"
   ]
  },
  {
   "cell_type": "code",
   "execution_count": 67,
   "id": "6ede352e",
   "metadata": {},
   "outputs": [
    {
     "data": {
      "text/plain": [
       "<langgraph.graph.state.StateGraph at 0x25ac07e3b50>"
      ]
     },
     "execution_count": 67,
     "metadata": {},
     "output_type": "execute_result"
    }
   ],
   "source": [
    "graph.set_entry_point(\"ai_assistant\")"
   ]
  },
  {
   "cell_type": "code",
   "execution_count": 68,
   "id": "1d811114",
   "metadata": {},
   "outputs": [],
   "source": [
    "app=graph.compile()"
   ]
  },
  {
   "cell_type": "code",
   "execution_count": 69,
   "id": "9ce896ae",
   "metadata": {},
   "outputs": [
    {
     "data": {
      "image/png": "[encoded data removed]",
      "text/plain": [
       "<IPython.core.display.Image object>"
      ]
     },
     "metadata": {},
     "output_type": "display_data"
    }
   ],
   "source": [
    "\n",
    "from IPython.display import Image, display\n",
    "display(Image(app.get_graph().draw_mermaid_png()))"
   ]
  },
  {
   "cell_type": "code",
   "execution_count": 70,
   "id": "1ba029d0",
   "metadata": {},
   "outputs": [
    {
     "name": "stdout",
     "output_type": "stream",
     "text": [
      "Seleted tool: search\n"
     ]
    },
    {
     "data": {
      "text/plain": [
       "{'messages': ['What is the current gdp of the india?',\n",
       "  AIMessage(content='', additional_kwargs={'tool_calls': [{'id': '4q0mzt88h', 'function': {'arguments': '{\"query\":\"current GDP of India\"}', 'name': 'search'}, 'type': 'function'}]}, response_metadata={'token_usage': {'completion_tokens': 124, 'prompt_tokens': 176, 'total_tokens': 300, 'completion_time': 0.501417045, 'prompt_time': 0.010997096, 'queue_time': 0.052522031, 'total_time': 0.512414141}, 'model_name': 'deepseek-r1-distill-llama-70b', 'system_fingerprint': 'fp_1bbe7845ec', 'finish_reason': 'tool_calls', 'logprobs': None}, id='run--1a7421ad-ce70-45f7-9b5f-6996af8fe791-0', tool_calls=[{'name': 'search', 'args': {'query': 'current GDP of India'}, 'id': '4q0mzt88h', 'type': 'tool_call'}], usage_metadata={'input_tokens': 176, 'output_tokens': 124, 'total_tokens': 300}),\n",
       "  'Result for current GDP of India is: \\n[{\\'title\\': \"India To Overtake Japan As World\\'s 4th Largest Economy In 2025: IMF ...\", \\'url\\': \\'https://pwonlyias.com/current-affairs/indias-economic-growth/\\', \\'content\\': \"India is projected to become the world\\'s fourth-largest economy in 2025 by nominal GDP, surpassing Japan, according to IMF estimates. Current Status of Indian Economy According to the International Monetary Fund (IMF), India\\'s nominal Gross Domestic Product (GDP) in 2025 is estimated at $4,187.03 billion, marginally higher than Japan\\'s GDP. By market exchange rate (MER) GDP, India is now\", \\'score\\': 0.8785752}, {\\'title\\': \"GDP Of India: Current And Historical Growth Rate, India\\'s Rank In The ...\", \\'url\\': \\'https://www.forbesindia.com/article/explainers/gdp-india/85337/1\\', \\'content\\': \"India\\'s Current GDP (FY24): $3.9 trillion\\\\n India\\'s GDP Growth Rate (FY24): 8.2%\\\\n\\\\nAlso Read: Unemployment rate in India (2008 to 2023): Current rate, historical trends and more\\\\n\\\\n## What is GDP growth rate [...] India\\'s Current GDP (FY24): $3.9 trillion\\\\n India\\'s GDP Growth Rate (FY24): 8.2%\\\\n\\\\nAlso Read: Unemployment rate in India (2008 to 2023): Current rate, historical trends and more\\\\n\\\\n## What is GDP growth rate [...] India\\'s Current GDP (FY24): $3.9 trillion\\\\n India\\'s GDP Growth Rate (FY24): 8.2%\\\\n\\\\nAlso Read: Unemployment rate in India (2008 to 2023): Current rate, historical trends and more\\\\n\\\\n## What is GDP growth rate\", \\'score\\': 0.86024034}, {\\'title\\': \\'World GDP Ranking 2025 List - ClearTax\\', \\'url\\': \\'https://cleartax.in/s/world-gdp-ranking-list\\', \\'content\\': \"India is currently ranked as the 4th largest economy globally in 2025, surpassing Japan to secure the 4th position among the world\\'s top 10 largest economies, with a nominal GDP of $4.19 trillion in 2025. Moreover, the IMF forecasts that by 2027, India will overtake Germany to become the 3rd largest economy worldwide\", \\'score\\': 0.850382}]']}"
      ]
     },
     "execution_count": 70,
     "metadata": {},
     "output_type": "execute_result"
    }
   ],
   "source": [
    "app.invoke({\"messages\":[\"What is the current gdp of the india?\"]})"
   ]
  },
  {
   "cell_type": "code",
   "execution_count": 71,
   "id": "29cda1a0",
   "metadata": {},
   "outputs": [
    {
     "name": "stdout",
     "output_type": "stream",
     "text": [
      "Seleted tool: multiply\n"
     ]
    },
    {
     "data": {
      "text/plain": [
       "{'messages': ['What is the multiplication of 5 and 20?',\n",
       "  AIMessage(content='', additional_kwargs={'tool_calls': [{'id': 'fhqr2zxfh', 'function': {'arguments': '{\"x\":5,\"y\":20}', 'name': 'multiply'}, 'type': 'function'}]}, response_metadata={'token_usage': {'completion_tokens': 189, 'prompt_tokens': 177, 'total_tokens': 366, 'completion_time': 0.748217443, 'prompt_time': 0.011103573, 'queue_time': 0.071498198, 'total_time': 0.759321016}, 'model_name': 'deepseek-r1-distill-llama-70b', 'system_fingerprint': 'fp_1bbe7845ec', 'finish_reason': 'tool_calls', 'logprobs': None}, id='run--fc981f4d-1f25-4294-8358-5a5c8ebe2de0-0', tool_calls=[{'name': 'multiply', 'args': {'x': 5, 'y': 20}, 'id': 'fhqr2zxfh', 'type': 'tool_call'}], usage_metadata={'input_tokens': 177, 'output_tokens': 189, 'total_tokens': 366}),\n",
       "  100]}"
      ]
     },
     "execution_count": 71,
     "metadata": {},
     "output_type": "execute_result"
    }
   ],
   "source": [
    "app.invoke({\"messages\":[\"What is the multiplication of 5 and 20?\"]})"
   ]
  },
  {
   "cell_type": "code",
   "execution_count": 72,
   "id": "1d8c624e",
   "metadata": {},
   "outputs": [
    {
     "name": "stdout",
     "output_type": "stream",
     "text": [
      "Seleted tool: search\n",
      "web search discarded by the user. exiting gracefully\n"
     ]
    },
    {
     "ename": "Exception",
     "evalue": "Web search discarded by the user.",
     "output_type": "error",
     "traceback": [
      "\u001b[1;31m---------------------------------------------------------------------------\u001b[0m",
      "\u001b[1;31mException\u001b[0m                                 Traceback (most recent call last)",
      "Cell \u001b[1;32mIn[72], line 1\u001b[0m\n\u001b[1;32m----> 1\u001b[0m \u001b[43mapp\u001b[49m\u001b[38;5;241;43m.\u001b[39;49m\u001b[43minvoke\u001b[49m\u001b[43m(\u001b[49m\u001b[43m{\u001b[49m\u001b[38;5;124;43m\"\u001b[39;49m\u001b[38;5;124;43mmessages\u001b[39;49m\u001b[38;5;124;43m\"\u001b[39;49m\u001b[43m:\u001b[49m\u001b[43m[\u001b[49m\u001b[38;5;124;43m\"\u001b[39;49m\u001b[38;5;124;43mWhat is the current weather in india delhi?\u001b[39;49m\u001b[38;5;124;43m\"\u001b[39;49m\u001b[43m]\u001b[49m\u001b[43m}\u001b[49m\u001b[43m)\u001b[49m\n",
      "File \u001b[1;32mc:\\Complete_Content2\\Agentic-2.0\\env\\lib\\site-packages\\langgraph\\pregel\\__init__.py:2719\u001b[0m, in \u001b[0;36mPregel.invoke\u001b[1;34m(self, input, config, stream_mode, output_keys, interrupt_before, interrupt_after, checkpoint_during, debug, **kwargs)\u001b[0m\n\u001b[0;32m   2716\u001b[0m chunks: \u001b[38;5;28mlist\u001b[39m[Union[\u001b[38;5;28mdict\u001b[39m[\u001b[38;5;28mstr\u001b[39m, Any], Any]] \u001b[38;5;241m=\u001b[39m []\n\u001b[0;32m   2717\u001b[0m interrupts: \u001b[38;5;28mlist\u001b[39m[Interrupt] \u001b[38;5;241m=\u001b[39m []\n\u001b[1;32m-> 2719\u001b[0m \u001b[38;5;28;01mfor\u001b[39;00m chunk \u001b[38;5;129;01min\u001b[39;00m \u001b[38;5;28mself\u001b[39m\u001b[38;5;241m.\u001b[39mstream(\n\u001b[0;32m   2720\u001b[0m     \u001b[38;5;28minput\u001b[39m,\n\u001b[0;32m   2721\u001b[0m     config,\n\u001b[0;32m   2722\u001b[0m     stream_mode\u001b[38;5;241m=\u001b[39mstream_mode,\n\u001b[0;32m   2723\u001b[0m     output_keys\u001b[38;5;241m=\u001b[39moutput_keys,\n\u001b[0;32m   2724\u001b[0m     interrupt_before\u001b[38;5;241m=\u001b[39minterrupt_before,\n\u001b[0;32m   2725\u001b[0m     interrupt_after\u001b[38;5;241m=\u001b[39minterrupt_after,\n\u001b[0;32m   2726\u001b[0m     checkpoint_during\u001b[38;5;241m=\u001b[39mcheckpoint_during,\n\u001b[0;32m   2727\u001b[0m     debug\u001b[38;5;241m=\u001b[39mdebug,\n\u001b[0;32m   2728\u001b[0m     \u001b[38;5;241m*\u001b[39m\u001b[38;5;241m*\u001b[39mkwargs,\n\u001b[0;32m   2729\u001b[0m ):\n\u001b[0;32m   2730\u001b[0m     \u001b[38;5;28;01mif\u001b[39;00m stream_mode \u001b[38;5;241m==\u001b[39m \u001b[38;5;124m\"\u001b[39m\u001b[38;5;124mvalues\u001b[39m\u001b[38;5;124m\"\u001b[39m:\n\u001b[0;32m   2731\u001b[0m         \u001b[38;5;28;01mif\u001b[39;00m (\n\u001b[0;32m   2732\u001b[0m             \u001b[38;5;28misinstance\u001b[39m(chunk, \u001b[38;5;28mdict\u001b[39m)\n\u001b[0;32m   2733\u001b[0m             \u001b[38;5;129;01mand\u001b[39;00m (ints \u001b[38;5;241m:=\u001b[39m chunk\u001b[38;5;241m.\u001b[39mget(INTERRUPT)) \u001b[38;5;129;01mis\u001b[39;00m \u001b[38;5;129;01mnot\u001b[39;00m \u001b[38;5;28;01mNone\u001b[39;00m\n\u001b[0;32m   2734\u001b[0m         ):\n",
      "File \u001b[1;32mc:\\Complete_Content2\\Agentic-2.0\\env\\lib\\site-packages\\langgraph\\pregel\\__init__.py:2436\u001b[0m, in \u001b[0;36mPregel.stream\u001b[1;34m(self, input, config, stream_mode, output_keys, interrupt_before, interrupt_after, checkpoint_during, debug, subgraphs)\u001b[0m\n\u001b[0;32m   2434\u001b[0m         \u001b[38;5;28;01mfor\u001b[39;00m task \u001b[38;5;129;01min\u001b[39;00m loop\u001b[38;5;241m.\u001b[39mmatch_cached_writes():\n\u001b[0;32m   2435\u001b[0m             loop\u001b[38;5;241m.\u001b[39moutput_writes(task\u001b[38;5;241m.\u001b[39mid, task\u001b[38;5;241m.\u001b[39mwrites, cached\u001b[38;5;241m=\u001b[39m\u001b[38;5;28;01mTrue\u001b[39;00m)\n\u001b[1;32m-> 2436\u001b[0m         \u001b[38;5;28;01mfor\u001b[39;00m _ \u001b[38;5;129;01min\u001b[39;00m runner\u001b[38;5;241m.\u001b[39mtick(\n\u001b[0;32m   2437\u001b[0m             [t \u001b[38;5;28;01mfor\u001b[39;00m t \u001b[38;5;129;01min\u001b[39;00m loop\u001b[38;5;241m.\u001b[39mtasks\u001b[38;5;241m.\u001b[39mvalues() \u001b[38;5;28;01mif\u001b[39;00m \u001b[38;5;129;01mnot\u001b[39;00m t\u001b[38;5;241m.\u001b[39mwrites],\n\u001b[0;32m   2438\u001b[0m             timeout\u001b[38;5;241m=\u001b[39m\u001b[38;5;28mself\u001b[39m\u001b[38;5;241m.\u001b[39mstep_timeout,\n\u001b[0;32m   2439\u001b[0m             get_waiter\u001b[38;5;241m=\u001b[39mget_waiter,\n\u001b[0;32m   2440\u001b[0m             schedule_task\u001b[38;5;241m=\u001b[39mloop\u001b[38;5;241m.\u001b[39maccept_push,\n\u001b[0;32m   2441\u001b[0m         ):\n\u001b[0;32m   2442\u001b[0m             \u001b[38;5;66;03m# emit output\u001b[39;00m\n\u001b[0;32m   2443\u001b[0m             \u001b[38;5;28;01myield from\u001b[39;00m output()\n\u001b[0;32m   2444\u001b[0m \u001b[38;5;66;03m# emit output\u001b[39;00m\n",
      "File \u001b[1;32mc:\\Complete_Content2\\Agentic-2.0\\env\\lib\\site-packages\\langgraph\\pregel\\runner.py:161\u001b[0m, in \u001b[0;36mPregelRunner.tick\u001b[1;34m(self, tasks, reraise, timeout, retry_policy, get_waiter, schedule_task)\u001b[0m\n\u001b[0;32m    159\u001b[0m t \u001b[38;5;241m=\u001b[39m tasks[\u001b[38;5;241m0\u001b[39m]\n\u001b[0;32m    160\u001b[0m \u001b[38;5;28;01mtry\u001b[39;00m:\n\u001b[1;32m--> 161\u001b[0m     \u001b[43mrun_with_retry\u001b[49m\u001b[43m(\u001b[49m\n\u001b[0;32m    162\u001b[0m \u001b[43m        \u001b[49m\u001b[43mt\u001b[49m\u001b[43m,\u001b[49m\n\u001b[0;32m    163\u001b[0m \u001b[43m        \u001b[49m\u001b[43mretry_policy\u001b[49m\u001b[43m,\u001b[49m\n\u001b[0;32m    164\u001b[0m \u001b[43m        \u001b[49m\u001b[43mconfigurable\u001b[49m\u001b[38;5;241;43m=\u001b[39;49m\u001b[43m{\u001b[49m\n\u001b[0;32m    165\u001b[0m \u001b[43m            \u001b[49m\u001b[43mCONFIG_KEY_CALL\u001b[49m\u001b[43m:\u001b[49m\u001b[43m \u001b[49m\u001b[43mpartial\u001b[49m\u001b[43m(\u001b[49m\n\u001b[0;32m    166\u001b[0m \u001b[43m                \u001b[49m\u001b[43m_call\u001b[49m\u001b[43m,\u001b[49m\n\u001b[0;32m    167\u001b[0m \u001b[43m                \u001b[49m\u001b[43mweakref\u001b[49m\u001b[38;5;241;43m.\u001b[39;49m\u001b[43mref\u001b[49m\u001b[43m(\u001b[49m\u001b[43mt\u001b[49m\u001b[43m)\u001b[49m\u001b[43m,\u001b[49m\n\u001b[0;32m    168\u001b[0m \u001b[43m                \u001b[49m\u001b[43mretry\u001b[49m\u001b[38;5;241;43m=\u001b[39;49m\u001b[43mretry_policy\u001b[49m\u001b[43m,\u001b[49m\n\u001b[0;32m    169\u001b[0m \u001b[43m                \u001b[49m\u001b[43mfutures\u001b[49m\u001b[38;5;241;43m=\u001b[39;49m\u001b[43mweakref\u001b[49m\u001b[38;5;241;43m.\u001b[39;49m\u001b[43mref\u001b[49m\u001b[43m(\u001b[49m\u001b[43mfutures\u001b[49m\u001b[43m)\u001b[49m\u001b[43m,\u001b[49m\n\u001b[0;32m    170\u001b[0m \u001b[43m                \u001b[49m\u001b[43mschedule_task\u001b[49m\u001b[38;5;241;43m=\u001b[39;49m\u001b[43mschedule_task\u001b[49m\u001b[43m,\u001b[49m\n\u001b[0;32m    171\u001b[0m \u001b[43m                \u001b[49m\u001b[43msubmit\u001b[49m\u001b[38;5;241;43m=\u001b[39;49m\u001b[38;5;28;43mself\u001b[39;49m\u001b[38;5;241;43m.\u001b[39;49m\u001b[43msubmit\u001b[49m\u001b[43m,\u001b[49m\n\u001b[0;32m    172\u001b[0m \u001b[43m            \u001b[49m\u001b[43m)\u001b[49m\u001b[43m,\u001b[49m\n\u001b[0;32m    173\u001b[0m \u001b[43m        \u001b[49m\u001b[43m}\u001b[49m\u001b[43m,\u001b[49m\n\u001b[0;32m    174\u001b[0m \u001b[43m    \u001b[49m\u001b[43m)\u001b[49m\n\u001b[0;32m    175\u001b[0m     \u001b[38;5;28mself\u001b[39m\u001b[38;5;241m.\u001b[39mcommit(t, \u001b[38;5;28;01mNone\u001b[39;00m)\n\u001b[0;32m    176\u001b[0m \u001b[38;5;28;01mexcept\u001b[39;00m \u001b[38;5;167;01mException\u001b[39;00m \u001b[38;5;28;01mas\u001b[39;00m exc:\n",
      "File \u001b[1;32mc:\\Complete_Content2\\Agentic-2.0\\env\\lib\\site-packages\\langgraph\\pregel\\retry.py:40\u001b[0m, in \u001b[0;36mrun_with_retry\u001b[1;34m(task, retry_policy, configurable)\u001b[0m\n\u001b[0;32m     38\u001b[0m     task\u001b[38;5;241m.\u001b[39mwrites\u001b[38;5;241m.\u001b[39mclear()\n\u001b[0;32m     39\u001b[0m     \u001b[38;5;66;03m# run the task\u001b[39;00m\n\u001b[1;32m---> 40\u001b[0m     \u001b[38;5;28;01mreturn\u001b[39;00m \u001b[43mtask\u001b[49m\u001b[38;5;241;43m.\u001b[39;49m\u001b[43mproc\u001b[49m\u001b[38;5;241;43m.\u001b[39;49m\u001b[43minvoke\u001b[49m\u001b[43m(\u001b[49m\u001b[43mtask\u001b[49m\u001b[38;5;241;43m.\u001b[39;49m\u001b[43minput\u001b[49m\u001b[43m,\u001b[49m\u001b[43m \u001b[49m\u001b[43mconfig\u001b[49m\u001b[43m)\u001b[49m\n\u001b[0;32m     41\u001b[0m \u001b[38;5;28;01mexcept\u001b[39;00m ParentCommand \u001b[38;5;28;01mas\u001b[39;00m exc:\n\u001b[0;32m     42\u001b[0m     ns: \u001b[38;5;28mstr\u001b[39m \u001b[38;5;241m=\u001b[39m config[CONF][CONFIG_KEY_CHECKPOINT_NS]\n",
      "File \u001b[1;32mc:\\Complete_Content2\\Agentic-2.0\\env\\lib\\site-packages\\langgraph\\utils\\runnable.py:623\u001b[0m, in \u001b[0;36mRunnableSeq.invoke\u001b[1;34m(self, input, config, **kwargs)\u001b[0m\n\u001b[0;32m    621\u001b[0m     \u001b[38;5;66;03m# run in context\u001b[39;00m\n\u001b[0;32m    622\u001b[0m     \u001b[38;5;28;01mwith\u001b[39;00m set_config_context(config, run) \u001b[38;5;28;01mas\u001b[39;00m context:\n\u001b[1;32m--> 623\u001b[0m         \u001b[38;5;28minput\u001b[39m \u001b[38;5;241m=\u001b[39m context\u001b[38;5;241m.\u001b[39mrun(step\u001b[38;5;241m.\u001b[39minvoke, \u001b[38;5;28minput\u001b[39m, config, \u001b[38;5;241m*\u001b[39m\u001b[38;5;241m*\u001b[39mkwargs)\n\u001b[0;32m    624\u001b[0m \u001b[38;5;28;01melse\u001b[39;00m:\n\u001b[0;32m    625\u001b[0m     \u001b[38;5;28minput\u001b[39m \u001b[38;5;241m=\u001b[39m step\u001b[38;5;241m.\u001b[39minvoke(\u001b[38;5;28minput\u001b[39m, config)\n",
      "File \u001b[1;32mc:\\Complete_Content2\\Agentic-2.0\\env\\lib\\site-packages\\langgraph\\utils\\runnable.py:377\u001b[0m, in \u001b[0;36mRunnableCallable.invoke\u001b[1;34m(self, input, config, **kwargs)\u001b[0m\n\u001b[0;32m    375\u001b[0m         run_manager\u001b[38;5;241m.\u001b[39mon_chain_end(ret)\n\u001b[0;32m    376\u001b[0m \u001b[38;5;28;01melse\u001b[39;00m:\n\u001b[1;32m--> 377\u001b[0m     ret \u001b[38;5;241m=\u001b[39m \u001b[38;5;28mself\u001b[39m\u001b[38;5;241m.\u001b[39mfunc(\u001b[38;5;241m*\u001b[39margs, \u001b[38;5;241m*\u001b[39m\u001b[38;5;241m*\u001b[39mkwargs)\n\u001b[0;32m    378\u001b[0m \u001b[38;5;28;01mif\u001b[39;00m \u001b[38;5;28mself\u001b[39m\u001b[38;5;241m.\u001b[39mrecurse \u001b[38;5;129;01mand\u001b[39;00m \u001b[38;5;28misinstance\u001b[39m(ret, Runnable):\n\u001b[0;32m    379\u001b[0m     \u001b[38;5;28;01mreturn\u001b[39;00m ret\u001b[38;5;241m.\u001b[39minvoke(\u001b[38;5;28minput\u001b[39m, config)\n",
      "Cell \u001b[1;32mIn[59], line 13\u001b[0m, in \u001b[0;36minvoke_tool\u001b[1;34m(state)\u001b[0m\n\u001b[0;32m     11\u001b[0m     \u001b[38;5;28;01mif\u001b[39;00m response\u001b[38;5;241m.\u001b[39mlower()\u001b[38;5;241m==\u001b[39m\u001b[38;5;124m\"\u001b[39m\u001b[38;5;124mno\u001b[39m\u001b[38;5;124m\"\u001b[39m:\n\u001b[0;32m     12\u001b[0m         \u001b[38;5;28mprint\u001b[39m(\u001b[38;5;124m\"\u001b[39m\u001b[38;5;124mweb search discarded by the user. exiting gracefully\u001b[39m\u001b[38;5;124m\"\u001b[39m)\n\u001b[1;32m---> 13\u001b[0m         \u001b[38;5;28;01mraise\u001b[39;00m \u001b[38;5;167;01mException\u001b[39;00m(\u001b[38;5;124m\"\u001b[39m\u001b[38;5;124mWeb search discarded by the user.\u001b[39m\u001b[38;5;124m\"\u001b[39m)\n\u001b[0;32m     16\u001b[0m response\u001b[38;5;241m=\u001b[39mtool_mapping[tool_details[\u001b[38;5;241m0\u001b[39m][\u001b[38;5;124m\"\u001b[39m\u001b[38;5;124mname\u001b[39m\u001b[38;5;124m\"\u001b[39m]]\u001b[38;5;241m.\u001b[39minvoke(tool_details[\u001b[38;5;241m0\u001b[39m][\u001b[38;5;124m\"\u001b[39m\u001b[38;5;124margs\u001b[39m\u001b[38;5;124m\"\u001b[39m])\n\u001b[0;32m     17\u001b[0m \u001b[38;5;28;01mreturn\u001b[39;00m {\u001b[38;5;124m\"\u001b[39m\u001b[38;5;124mmessages\u001b[39m\u001b[38;5;124m\"\u001b[39m:[response]}\n",
      "\u001b[1;31mException\u001b[0m: Web search discarded by the user."
     ]
    }
   ],
   "source": [
    "app.invoke({\"messages\":[\"What is the current weather in india delhi?\"]})"
   ]
  },
  {
   "cell_type": "code",
   "execution_count": 73,
   "id": "b8a24f47",
   "metadata": {},
   "outputs": [
    {
     "name": "stdout",
     "output_type": "stream",
     "text": [
      "Seleted tool: search\n"
     ]
    },
    {
     "data": {
      "text/plain": [
       "{'messages': ['what is a latest news of bengaluru?',\n",
       "  AIMessage(content='', additional_kwargs={'tool_calls': [{'id': 'tazb6dhs8', 'function': {'arguments': '{\"query\":\"Bengaluru latest news\"}', 'name': 'search'}, 'type': 'function'}]}, response_metadata={'token_usage': {'completion_tokens': 112, 'prompt_tokens': 177, 'total_tokens': 289, 'completion_time': 0.486075203, 'prompt_time': 0.018451055, 'queue_time': 0.054526525, 'total_time': 0.504526258}, 'model_name': 'deepseek-r1-distill-llama-70b', 'system_fingerprint': 'fp_1bbe7845ec', 'finish_reason': 'tool_calls', 'logprobs': None}, id='run--a8e93771-f07f-419b-b0e9-df5da33cee49-0', tool_calls=[{'name': 'search', 'args': {'query': 'Bengaluru latest news'}, 'id': 'tazb6dhs8', 'type': 'tool_call'}], usage_metadata={'input_tokens': 177, 'output_tokens': 112, 'total_tokens': 289}),\n",
       "  'Result for Bengaluru latest news is: \\n[{\\'title\\': \"Bengaluru News Updates: Key Developments from Karnataka\\'s Capital\", \\'url\\': \\'https://www.thehansindia.com/news/cities/bengaluru/bengaluru-news-updates-key-developments-from-karnatakas-capital-948572\\', \\'content\\': \"Stay updated with the latest Bengaluru news, covering key developments, political updates, civic issues, and major events from Karnataka\\'s capital.\", \\'score\\': 0.79580134}, {\\'title\\': \\'Bengaluru News: Latest Bangalore News Headlines ... - Times of India\\', \\'url\\': \\'https://timesofindia.indiatimes.com/city/bangalore\\', \\'content\\': \\'## TOI\\\\n\\\\n# bengaluru News\\\\n\\\\nBengaluru girl alleges sexual abuse by mother in name of ‘intimacy training’; told it would help post-marriage life with husband; probe on\\\\n\\\\nA class 9 girl in Bengaluru has accused her mother of sexual harassment and assault, alleging it was done under the guise of sex education for her future marriage. The mother, however, denies these allegations, admitting only to past scolding and beatings. [...] Don’t display & waste food, says association; Bengaluru hotels share mixed views\\\\nBengaluru suburban rail project: 157 more trees on chopping block\\\\nPostal assistant in Bengaluru offers help to invest, pockets 5 customers’ Rs 11.8Lakh\\\\nE-khata drive on June 29\\\\nArmy, Karnataka cops hold joint anti-terror mock drill in Bengaluru\\\\n\\\\n## More Stories [...] Stranger hits, tries to disrobe housekeeping staffer returning home in Bengaluru\\\\nBike-taxi ban: Bengalureans’ frustration grows\\\\nKarnataka tiger deaths: 3 arrested for poisoning at MM Hills sanctuary; wildlife officials call it worst single-day tiger mortality in India\\\\n\\\\n## Photos\\', \\'score\\': 0.79369855}, {\\'title\\': \\'Latest Bengaluru City News Headlines & Live Updates - Oneindia\\', \\'url\\': \\'https://www.oneindia.com/bengaluru/\\', \\'content\\': \\'Bengaluru News · Bengaluru: 20-Year-Old Woman Dies After Fall From High-Rise While · Bengaluru Power Cut On June 27: Several Areas to Face No Electricity For 7\\', \\'score\\': 0.7715858}, {\\'title\\': \\'Bengaluru in years to come: Five major development plans ... - News9Live\\', \\'url\\': \\'https://www.news9live.com/city/bengaluru/bengaluru-in-years-to-come-five-major-development-plans-reshaping-indias-tech-city-2695921\\', \\'content\\': \\'Click for more latest Bengaluru news. Also get top headlines and latest news from India and around the world at News9. [...] Bengaluru:Bengaluru, often hailed as the Silicon Valley of India, is gearing up for a major urban transformation. The city is set to undertake a range of ambitious projects designed to boost infrastructure, sustainability, and overall livability. With plans spanning from cutting-edge tech parks to green urban spaces, these initiatives highlight Bengaluru’s drive to strengthen its position as a global metropolis while tackling the challenges of rapid growth.\\\\n\\\\n## 1. Bangalore Tech Park expansion [...] Understanding the value of cultural and recreational areas, Bengaluru is focusing on the development of new cultural centers, museums, and recreational facilities. These spaces will offer residents opportunities for leisure, arts, and community engagement. Key projects include a new cultural complex and renovations of heritage sites, designed to celebrate the city’s cultural heritage while offering modern amenities.\\', \\'score\\': 0.73755574}, {\\'title\\': \\'Latest and Breaking Bengaluru News – NDTV.com\\', \\'url\\': \\'https://www.ndtv.com/bangalore-news\\', \\'content\\': \\'Bengaluru News · Out To Party, Bengaluru Woman Falls From 13th Floor Of Under-Construction Building · Bengaluru Man Alleges Attackers Forced His Friend To Chant\\', \\'score\\': 0.72395444}]']}"
      ]
     },
     "execution_count": 73,
     "metadata": {},
     "output_type": "execute_result"
    }
   ],
   "source": [
    "app.invoke({\"messages\":[\"what is a latest news of bengaluru?\"]})"
   ]
  },
  {
   "cell_type": "code",
   "execution_count": 74,
   "id": "905c6a82",
   "metadata": {},
   "outputs": [
    {
     "name": "stdout",
     "output_type": "stream",
     "text": [
      "Seleted tool: search\n",
      "web search discarded by the user. exiting gracefully\n"
     ]
    },
    {
     "ename": "Exception",
     "evalue": "Web search discarded by the user.",
     "output_type": "error",
     "traceback": [
      "\u001b[1;31m---------------------------------------------------------------------------\u001b[0m",
      "\u001b[1;31mException\u001b[0m                                 Traceback (most recent call last)",
      "Cell \u001b[1;32mIn[74], line 1\u001b[0m\n\u001b[1;32m----> 1\u001b[0m \u001b[43mapp\u001b[49m\u001b[38;5;241;43m.\u001b[39;49m\u001b[43minvoke\u001b[49m\u001b[43m(\u001b[49m\u001b[43m{\u001b[49m\u001b[38;5;124;43m\"\u001b[39;49m\u001b[38;5;124;43mmessages\u001b[39;49m\u001b[38;5;124;43m\"\u001b[39;49m\u001b[43m:\u001b[49m\u001b[43m[\u001b[49m\u001b[38;5;124;43m\"\u001b[39;49m\u001b[38;5;124;43mwhat is a latest news of delhi?\u001b[39;49m\u001b[38;5;124;43m\"\u001b[39;49m\u001b[43m]\u001b[49m\u001b[43m}\u001b[49m\u001b[43m)\u001b[49m\n",
      "File \u001b[1;32mc:\\Complete_Content2\\Agentic-2.0\\env\\lib\\site-packages\\langgraph\\pregel\\__init__.py:2719\u001b[0m, in \u001b[0;36mPregel.invoke\u001b[1;34m(self, input, config, stream_mode, output_keys, interrupt_before, interrupt_after, checkpoint_during, debug, **kwargs)\u001b[0m\n\u001b[0;32m   2716\u001b[0m chunks: \u001b[38;5;28mlist\u001b[39m[Union[\u001b[38;5;28mdict\u001b[39m[\u001b[38;5;28mstr\u001b[39m, Any], Any]] \u001b[38;5;241m=\u001b[39m []\n\u001b[0;32m   2717\u001b[0m interrupts: \u001b[38;5;28mlist\u001b[39m[Interrupt] \u001b[38;5;241m=\u001b[39m []\n\u001b[1;32m-> 2719\u001b[0m \u001b[38;5;28;01mfor\u001b[39;00m chunk \u001b[38;5;129;01min\u001b[39;00m \u001b[38;5;28mself\u001b[39m\u001b[38;5;241m.\u001b[39mstream(\n\u001b[0;32m   2720\u001b[0m     \u001b[38;5;28minput\u001b[39m,\n\u001b[0;32m   2721\u001b[0m     config,\n\u001b[0;32m   2722\u001b[0m     stream_mode\u001b[38;5;241m=\u001b[39mstream_mode,\n\u001b[0;32m   2723\u001b[0m     output_keys\u001b[38;5;241m=\u001b[39moutput_keys,\n\u001b[0;32m   2724\u001b[0m     interrupt_before\u001b[38;5;241m=\u001b[39minterrupt_before,\n\u001b[0;32m   2725\u001b[0m     interrupt_after\u001b[38;5;241m=\u001b[39minterrupt_after,\n\u001b[0;32m   2726\u001b[0m     checkpoint_during\u001b[38;5;241m=\u001b[39mcheckpoint_during,\n\u001b[0;32m   2727\u001b[0m     debug\u001b[38;5;241m=\u001b[39mdebug,\n\u001b[0;32m   2728\u001b[0m     \u001b[38;5;241m*\u001b[39m\u001b[38;5;241m*\u001b[39mkwargs,\n\u001b[0;32m   2729\u001b[0m ):\n\u001b[0;32m   2730\u001b[0m     \u001b[38;5;28;01mif\u001b[39;00m stream_mode \u001b[38;5;241m==\u001b[39m \u001b[38;5;124m\"\u001b[39m\u001b[38;5;124mvalues\u001b[39m\u001b[38;5;124m\"\u001b[39m:\n\u001b[0;32m   2731\u001b[0m         \u001b[38;5;28;01mif\u001b[39;00m (\n\u001b[0;32m   2732\u001b[0m             \u001b[38;5;28misinstance\u001b[39m(chunk, \u001b[38;5;28mdict\u001b[39m)\n\u001b[0;32m   2733\u001b[0m             \u001b[38;5;129;01mand\u001b[39;00m (ints \u001b[38;5;241m:=\u001b[39m chunk\u001b[38;5;241m.\u001b[39mget(INTERRUPT)) \u001b[38;5;129;01mis\u001b[39;00m \u001b[38;5;129;01mnot\u001b[39;00m \u001b[38;5;28;01mNone\u001b[39;00m\n\u001b[0;32m   2734\u001b[0m         ):\n",
      "File \u001b[1;32mc:\\Complete_Content2\\Agentic-2.0\\env\\lib\\site-packages\\langgraph\\pregel\\__init__.py:2436\u001b[0m, in \u001b[0;36mPregel.stream\u001b[1;34m(self, input, config, stream_mode, output_keys, interrupt_before, interrupt_after, checkpoint_during, debug, subgraphs)\u001b[0m\n\u001b[0;32m   2434\u001b[0m         \u001b[38;5;28;01mfor\u001b[39;00m task \u001b[38;5;129;01min\u001b[39;00m loop\u001b[38;5;241m.\u001b[39mmatch_cached_writes():\n\u001b[0;32m   2435\u001b[0m             loop\u001b[38;5;241m.\u001b[39moutput_writes(task\u001b[38;5;241m.\u001b[39mid, task\u001b[38;5;241m.\u001b[39mwrites, cached\u001b[38;5;241m=\u001b[39m\u001b[38;5;28;01mTrue\u001b[39;00m)\n\u001b[1;32m-> 2436\u001b[0m         \u001b[38;5;28;01mfor\u001b[39;00m _ \u001b[38;5;129;01min\u001b[39;00m runner\u001b[38;5;241m.\u001b[39mtick(\n\u001b[0;32m   2437\u001b[0m             [t \u001b[38;5;28;01mfor\u001b[39;00m t \u001b[38;5;129;01min\u001b[39;00m loop\u001b[38;5;241m.\u001b[39mtasks\u001b[38;5;241m.\u001b[39mvalues() \u001b[38;5;28;01mif\u001b[39;00m \u001b[38;5;129;01mnot\u001b[39;00m t\u001b[38;5;241m.\u001b[39mwrites],\n\u001b[0;32m   2438\u001b[0m             timeout\u001b[38;5;241m=\u001b[39m\u001b[38;5;28mself\u001b[39m\u001b[38;5;241m.\u001b[39mstep_timeout,\n\u001b[0;32m   2439\u001b[0m             get_waiter\u001b[38;5;241m=\u001b[39mget_waiter,\n\u001b[0;32m   2440\u001b[0m             schedule_task\u001b[38;5;241m=\u001b[39mloop\u001b[38;5;241m.\u001b[39maccept_push,\n\u001b[0;32m   2441\u001b[0m         ):\n\u001b[0;32m   2442\u001b[0m             \u001b[38;5;66;03m# emit output\u001b[39;00m\n\u001b[0;32m   2443\u001b[0m             \u001b[38;5;28;01myield from\u001b[39;00m output()\n\u001b[0;32m   2444\u001b[0m \u001b[38;5;66;03m# emit output\u001b[39;00m\n",
      "File \u001b[1;32mc:\\Complete_Content2\\Agentic-2.0\\env\\lib\\site-packages\\langgraph\\pregel\\runner.py:161\u001b[0m, in \u001b[0;36mPregelRunner.tick\u001b[1;34m(self, tasks, reraise, timeout, retry_policy, get_waiter, schedule_task)\u001b[0m\n\u001b[0;32m    159\u001b[0m t \u001b[38;5;241m=\u001b[39m tasks[\u001b[38;5;241m0\u001b[39m]\n\u001b[0;32m    160\u001b[0m \u001b[38;5;28;01mtry\u001b[39;00m:\n\u001b[1;32m--> 161\u001b[0m     \u001b[43mrun_with_retry\u001b[49m\u001b[43m(\u001b[49m\n\u001b[0;32m    162\u001b[0m \u001b[43m        \u001b[49m\u001b[43mt\u001b[49m\u001b[43m,\u001b[49m\n\u001b[0;32m    163\u001b[0m \u001b[43m        \u001b[49m\u001b[43mretry_policy\u001b[49m\u001b[43m,\u001b[49m\n\u001b[0;32m    164\u001b[0m \u001b[43m        \u001b[49m\u001b[43mconfigurable\u001b[49m\u001b[38;5;241;43m=\u001b[39;49m\u001b[43m{\u001b[49m\n\u001b[0;32m    165\u001b[0m \u001b[43m            \u001b[49m\u001b[43mCONFIG_KEY_CALL\u001b[49m\u001b[43m:\u001b[49m\u001b[43m \u001b[49m\u001b[43mpartial\u001b[49m\u001b[43m(\u001b[49m\n\u001b[0;32m    166\u001b[0m \u001b[43m                \u001b[49m\u001b[43m_call\u001b[49m\u001b[43m,\u001b[49m\n\u001b[0;32m    167\u001b[0m \u001b[43m                \u001b[49m\u001b[43mweakref\u001b[49m\u001b[38;5;241;43m.\u001b[39;49m\u001b[43mref\u001b[49m\u001b[43m(\u001b[49m\u001b[43mt\u001b[49m\u001b[43m)\u001b[49m\u001b[43m,\u001b[49m\n\u001b[0;32m    168\u001b[0m \u001b[43m                \u001b[49m\u001b[43mretry\u001b[49m\u001b[38;5;241;43m=\u001b[39;49m\u001b[43mretry_policy\u001b[49m\u001b[43m,\u001b[49m\n\u001b[0;32m    169\u001b[0m \u001b[43m                \u001b[49m\u001b[43mfutures\u001b[49m\u001b[38;5;241;43m=\u001b[39;49m\u001b[43mweakref\u001b[49m\u001b[38;5;241;43m.\u001b[39;49m\u001b[43mref\u001b[49m\u001b[43m(\u001b[49m\u001b[43mfutures\u001b[49m\u001b[43m)\u001b[49m\u001b[43m,\u001b[49m\n\u001b[0;32m    170\u001b[0m \u001b[43m                \u001b[49m\u001b[43mschedule_task\u001b[49m\u001b[38;5;241;43m=\u001b[39;49m\u001b[43mschedule_task\u001b[49m\u001b[43m,\u001b[49m\n\u001b[0;32m    171\u001b[0m \u001b[43m                \u001b[49m\u001b[43msubmit\u001b[49m\u001b[38;5;241;43m=\u001b[39;49m\u001b[38;5;28;43mself\u001b[39;49m\u001b[38;5;241;43m.\u001b[39;49m\u001b[43msubmit\u001b[49m\u001b[43m,\u001b[49m\n\u001b[0;32m    172\u001b[0m \u001b[43m            \u001b[49m\u001b[43m)\u001b[49m\u001b[43m,\u001b[49m\n\u001b[0;32m    173\u001b[0m \u001b[43m        \u001b[49m\u001b[43m}\u001b[49m\u001b[43m,\u001b[49m\n\u001b[0;32m    174\u001b[0m \u001b[43m    \u001b[49m\u001b[43m)\u001b[49m\n\u001b[0;32m    175\u001b[0m     \u001b[38;5;28mself\u001b[39m\u001b[38;5;241m.\u001b[39mcommit(t, \u001b[38;5;28;01mNone\u001b[39;00m)\n\u001b[0;32m    176\u001b[0m \u001b[38;5;28;01mexcept\u001b[39;00m \u001b[38;5;167;01mException\u001b[39;00m \u001b[38;5;28;01mas\u001b[39;00m exc:\n",
      "File \u001b[1;32mc:\\Complete_Content2\\Agentic-2.0\\env\\lib\\site-packages\\langgraph\\pregel\\retry.py:40\u001b[0m, in \u001b[0;36mrun_with_retry\u001b[1;34m(task, retry_policy, configurable)\u001b[0m\n\u001b[0;32m     38\u001b[0m     task\u001b[38;5;241m.\u001b[39mwrites\u001b[38;5;241m.\u001b[39mclear()\n\u001b[0;32m     39\u001b[0m     \u001b[38;5;66;03m# run the task\u001b[39;00m\n\u001b[1;32m---> 40\u001b[0m     \u001b[38;5;28;01mreturn\u001b[39;00m \u001b[43mtask\u001b[49m\u001b[38;5;241;43m.\u001b[39;49m\u001b[43mproc\u001b[49m\u001b[38;5;241;43m.\u001b[39;49m\u001b[43minvoke\u001b[49m\u001b[43m(\u001b[49m\u001b[43mtask\u001b[49m\u001b[38;5;241;43m.\u001b[39;49m\u001b[43minput\u001b[49m\u001b[43m,\u001b[49m\u001b[43m \u001b[49m\u001b[43mconfig\u001b[49m\u001b[43m)\u001b[49m\n\u001b[0;32m     41\u001b[0m \u001b[38;5;28;01mexcept\u001b[39;00m ParentCommand \u001b[38;5;28;01mas\u001b[39;00m exc:\n\u001b[0;32m     42\u001b[0m     ns: \u001b[38;5;28mstr\u001b[39m \u001b[38;5;241m=\u001b[39m config[CONF][CONFIG_KEY_CHECKPOINT_NS]\n",
      "File \u001b[1;32mc:\\Complete_Content2\\Agentic-2.0\\env\\lib\\site-packages\\langgraph\\utils\\runnable.py:623\u001b[0m, in \u001b[0;36mRunnableSeq.invoke\u001b[1;34m(self, input, config, **kwargs)\u001b[0m\n\u001b[0;32m    621\u001b[0m     \u001b[38;5;66;03m# run in context\u001b[39;00m\n\u001b[0;32m    622\u001b[0m     \u001b[38;5;28;01mwith\u001b[39;00m set_config_context(config, run) \u001b[38;5;28;01mas\u001b[39;00m context:\n\u001b[1;32m--> 623\u001b[0m         \u001b[38;5;28minput\u001b[39m \u001b[38;5;241m=\u001b[39m context\u001b[38;5;241m.\u001b[39mrun(step\u001b[38;5;241m.\u001b[39minvoke, \u001b[38;5;28minput\u001b[39m, config, \u001b[38;5;241m*\u001b[39m\u001b[38;5;241m*\u001b[39mkwargs)\n\u001b[0;32m    624\u001b[0m \u001b[38;5;28;01melse\u001b[39;00m:\n\u001b[0;32m    625\u001b[0m     \u001b[38;5;28minput\u001b[39m \u001b[38;5;241m=\u001b[39m step\u001b[38;5;241m.\u001b[39minvoke(\u001b[38;5;28minput\u001b[39m, config)\n",
      "File \u001b[1;32mc:\\Complete_Content2\\Agentic-2.0\\env\\lib\\site-packages\\langgraph\\utils\\runnable.py:377\u001b[0m, in \u001b[0;36mRunnableCallable.invoke\u001b[1;34m(self, input, config, **kwargs)\u001b[0m\n\u001b[0;32m    375\u001b[0m         run_manager\u001b[38;5;241m.\u001b[39mon_chain_end(ret)\n\u001b[0;32m    376\u001b[0m \u001b[38;5;28;01melse\u001b[39;00m:\n\u001b[1;32m--> 377\u001b[0m     ret \u001b[38;5;241m=\u001b[39m \u001b[38;5;28mself\u001b[39m\u001b[38;5;241m.\u001b[39mfunc(\u001b[38;5;241m*\u001b[39margs, \u001b[38;5;241m*\u001b[39m\u001b[38;5;241m*\u001b[39mkwargs)\n\u001b[0;32m    378\u001b[0m \u001b[38;5;28;01mif\u001b[39;00m \u001b[38;5;28mself\u001b[39m\u001b[38;5;241m.\u001b[39mrecurse \u001b[38;5;129;01mand\u001b[39;00m \u001b[38;5;28misinstance\u001b[39m(ret, Runnable):\n\u001b[0;32m    379\u001b[0m     \u001b[38;5;28;01mreturn\u001b[39;00m ret\u001b[38;5;241m.\u001b[39minvoke(\u001b[38;5;28minput\u001b[39m, config)\n",
      "Cell \u001b[1;32mIn[59], line 13\u001b[0m, in \u001b[0;36minvoke_tool\u001b[1;34m(state)\u001b[0m\n\u001b[0;32m     11\u001b[0m     \u001b[38;5;28;01mif\u001b[39;00m response\u001b[38;5;241m.\u001b[39mlower()\u001b[38;5;241m==\u001b[39m\u001b[38;5;124m\"\u001b[39m\u001b[38;5;124mno\u001b[39m\u001b[38;5;124m\"\u001b[39m:\n\u001b[0;32m     12\u001b[0m         \u001b[38;5;28mprint\u001b[39m(\u001b[38;5;124m\"\u001b[39m\u001b[38;5;124mweb search discarded by the user. exiting gracefully\u001b[39m\u001b[38;5;124m\"\u001b[39m)\n\u001b[1;32m---> 13\u001b[0m         \u001b[38;5;28;01mraise\u001b[39;00m \u001b[38;5;167;01mException\u001b[39;00m(\u001b[38;5;124m\"\u001b[39m\u001b[38;5;124mWeb search discarded by the user.\u001b[39m\u001b[38;5;124m\"\u001b[39m)\n\u001b[0;32m     16\u001b[0m response\u001b[38;5;241m=\u001b[39mtool_mapping[tool_details[\u001b[38;5;241m0\u001b[39m][\u001b[38;5;124m\"\u001b[39m\u001b[38;5;124mname\u001b[39m\u001b[38;5;124m\"\u001b[39m]]\u001b[38;5;241m.\u001b[39minvoke(tool_details[\u001b[38;5;241m0\u001b[39m][\u001b[38;5;124m\"\u001b[39m\u001b[38;5;124margs\u001b[39m\u001b[38;5;124m\"\u001b[39m])\n\u001b[0;32m     17\u001b[0m \u001b[38;5;28;01mreturn\u001b[39;00m {\u001b[38;5;124m\"\u001b[39m\u001b[38;5;124mmessages\u001b[39m\u001b[38;5;124m\"\u001b[39m:[response]}\n",
      "\u001b[1;31mException\u001b[0m: Web search discarded by the user."
     ]
    }
   ],
   "source": [
    "app.invoke({\"messages\":[\"what is a latest news of delhi?\"]})"
   ]
  },
  {
   "cell_type": "code",
   "execution_count": null,
   "id": "9a2cad92",
   "metadata": {},
   "outputs": [],
   "source": []
  }
 ],
 "metadata": {
  "kernelspec": {
   "display_name": "Python 3",
   "language": "python",
   "name": "python3"
  },
  "language_info": {
   "codemirror_mode": {
    "name": "ipython",
    "version": 3
   },
   "file_extension": ".py",
   "mimetype": "text/x-python",
   "name": "python",
   "nbconvert_exporter": "python",
   "pygments_lexer": "ipython3",
   "version": "3.10.16"
  }
 },
 "nbformat": 4,
 "nbformat_minor": 5
}
